{
 "cells": [
  {
   "cell_type": "markdown",
   "id": "0535423c-a111-41fd-a2d3-27af515459ef",
   "metadata": {},
   "source": [
    "Q1. What is an API? Give an example, where an API is used in real life."
   ]
  },
  {
   "cell_type": "markdown",
   "id": "e1eaa749-ff21-4867-93a6-ed548cc6b905",
   "metadata": {},
   "source": [
    "A set of protocols, procedures, and tools are referred to as an API (Application Programming Interface) and are used to create software applications. By offering pre-built building blocks that can be used to create complicated applications, it provides developers with instructions on how software components should interact and facilitates the building of applications.\n",
    "\n",
    "The Google Maps API is an illustration of how an API is utilised in daily life. With the help of this API, programmers can incorporate Google Maps into their own apps and add additional material to the maps. For instance, a website that reviews restaurants might utilise the Google Maps API to display each restaurant's location on a map.\n"
   ]
  },
  {
   "cell_type": "markdown",
   "id": "f5aaf17e-060b-4840-8e35-3ed4eb07ee25",
   "metadata": {},
   "source": [
    "Q2. Give advantages and disadvantages of using API."
   ]
  },
  {
   "cell_type": "markdown",
   "id": "3442025a-7f7f-4b81-929a-b4110e026d16",
   "metadata": {},
   "source": [
    "The following benefits of using APIs:\n",
    "Efficiency gain: By reusing pre-built building pieces, APIs enable developers to quickly and effectively build complex applications.\n",
    "Better user experience: By integrating various services and offering a seamless user experience across many platforms, APIs can be utilised to improve user experience.\n",
    "Data access: APIs can grant developers access to information that might not otherwise be available, enabling the development of new software and services.\n",
    "Innovation: APIs can be utilised to develop previously unimaginable new goods and services.\n",
    "The following are drawbacks of using APIs:\n",
    "Security risks: If APIs are not adequately secured, they may present a security risk. Developers must make sure that their APIs are safe and are not disclosing sensitive information.\n",
    "Dependency on third-party services: If those services are unavailable or unstable, a dependency on them may be created as a result of using APIs.\n",
    "Costs: Some APIs have subscription fees or usage caps, which might raise the price of the development process.\n",
    "Compatibility problems: Integrating several services might be challenging since separate APIs may have dissimilar requirements or be incompatible with one another."
   ]
  },
  {
   "cell_type": "markdown",
   "id": "f9f1f8d5-2d28-4f6e-9843-e70f6cf02aba",
   "metadata": {},
   "source": [
    "Q3. What is a Web API? Differentiate between API and Web API."
   ]
  },
  {
   "cell_type": "markdown",
   "id": "378607c3-abd9-4f6e-bcde-1a0d81d8e023",
   "metadata": {},
   "source": [
    "An API that can be used online through HTTP is known as a web API. It is a set of protocols and resources for creating online-accessible software programmes. Access to web-based services like social networking platforms, online markets, and other web-based applications is often provided through web APIs.\n",
    "\n",
    "The primary distinction between an API and a Web API is that an API can be accessed locally or over a network, whereas a Web API must be accessed via the internet via HTTP. Databases, file systems, and other software programmes are just a few of the services and data sources that can be accessed through the use of APIs."
   ]
  },
  {
   "cell_type": "markdown",
   "id": "faa071a8-0851-4508-a1fa-8ed84a7895a0",
   "metadata": {},
   "source": [
    "Q4. Explain REST and SOAP Architecture. Mention shortcomings of SOAP."
   ]
  },
  {
   "cell_type": "markdown",
   "id": "74a729eb-4b8f-478c-9bd5-300bc8b90ff6",
   "metadata": {},
   "source": [
    "Web services are frequently built using the REST (Representational State Transfer) and SOAP (Simple Object Access Protocol) architectural styles.\n",
    "\n",
    "A lightweight architectural design approach called REST is used to create HTTP-capable services. RESTful web services are stateless and operate on resources using GET, POST, PUT, and DELETE standard HTTP methods. URLs are used by RESTful web services to identify resources, while HTTP response codes are used to show the operation's status.\n",
    "\n",
    "A standard for communication between a server and client using an XML-based message exchange format is defined by the SOAP protocol. Data interaction between SOAP web services uses XML and can be done using HTTP, SMTP, or other protocols. WSDL is used by SOAP web services.  \n",
    "\n"
   ]
  },
  {
   "cell_type": "markdown",
   "id": "2293e595-7944-4f50-94fc-2e19105027cd",
   "metadata": {},
   "source": [
    "Q5. Differentiate between REST and SOAP."
   ]
  },
  {
   "cell_type": "markdown",
   "id": "82a015fe-1882-4696-9b1c-a59dcb8870c1",
   "metadata": {},
   "source": [
    "REST and SOAP vary primarily in that REST is an architectural style while SOAP is a protocol. Compared to SOAP web services, RESTful web services are easier to use and more adaptable. Additionally, RESTful web services are faster and more scalable than SOAP web services.\n",
    "\n"
   ]
  }
 ],
 "metadata": {
  "kernelspec": {
   "display_name": "Python 3 (ipykernel)",
   "language": "python",
   "name": "python3"
  },
  "language_info": {
   "codemirror_mode": {
    "name": "ipython",
    "version": 3
   },
   "file_extension": ".py",
   "mimetype": "text/x-python",
   "name": "python",
   "nbconvert_exporter": "python",
   "pygments_lexer": "ipython3",
   "version": "3.10.8"
  }
 },
 "nbformat": 4,
 "nbformat_minor": 5
}
